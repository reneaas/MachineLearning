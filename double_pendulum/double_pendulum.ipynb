{
 "cells": [
  {
   "cell_type": "markdown",
   "metadata": {},
   "source": [
    "# Double Pendulum"
   ]
  },
  {
   "cell_type": "markdown",
   "metadata": {},
   "source": [
    "In this notebook, we implement a simple double pendulum system using the Lagriangian formalism of mechanics."
   ]
  },
  {
   "cell_type": "markdown",
   "metadata": {},
   "source": [
    "We assume the pendulums are fixed in a plane such that we need in total four generalized coordinates. Choosing polar coordinates $ q = \\{r_1, \\phi_1, r_2, \\phi_2 \\}$, we can write down a parametrization of the pendula\n",
    "\n",
    "$$\n",
    "\\boldsymbol{r}_1 = r_1(\\sin\\phi_1 \\hat{e}_x - \\cos\\phi_1 \\hat{e}_y),\n",
    "$$\n",
    "and\n",
    "$$\n",
    "\\boldsymbol{r}_2 = \\vec{r}_1 + r_1(\\sin\\phi_2 \\hat{e}_x - \\cos\\phi_2 \\hat{e}_y),\n",
    "$$"
   ]
  },
  {
   "cell_type": "markdown",
   "metadata": {},
   "source": [
    "The standard prescription is now to form the Lagrangian $L = K - V$ where $K$ is the kinetic energy of the system and $V$ is the potential."
   ]
  },
  {
   "cell_type": "markdown",
   "metadata": {},
   "source": [
    "The time derivative of the first pendulum is\n",
    "$$\n",
    "\\dot{\\boldsymbol{r}}_1 = \\dot{r}_1(\\sin\\phi_1 \\hat{e}_x - \\cos\\phi_1 \\hat{e}_y) + r_1\\dot{\\phi}_1(\\cos\\phi_1 \\hat{e}_x + \\sin\\phi_1 \\hat{e}_y) = (\\dot{r}_1\\sin\\phi_1 + r_1\\dot{\\phi}_1\\cos\\phi)\\hat{e}_x + (r_1\\dot{\\phi}_1\\sin\\phi_1 - \\dot{r}_1\\cos\\phi_1)\\hat{e}_y,\n",
    "$$\n",
    "which gives \n",
    "$$\n",
    "\\dot{\\boldsymbol{r}}_1^2 = (\\dot{r}_1\\sin\\phi_1 + r_1\\dot{\\phi}_1\\cos\\phi)^2 + (r_1\\dot{\\phi}_1\\sin\\phi_1 - \\dot{r}_1\\cos\\phi_1)^2 \n",
    "$$\n",
    "which may be rewritten as \n",
    "$$\n",
    "\\dot{\\boldsymbol}\n",
    "$$"
   ]
  },
  {
   "cell_type": "markdown",
   "metadata": {},
   "source": []
  }
 ],
 "metadata": {
  "kernelspec": {
   "display_name": "Python 3",
   "language": "python",
   "name": "python3"
  },
  "language_info": {
   "codemirror_mode": {
    "name": "ipython",
    "version": 3
   },
   "file_extension": ".py",
   "mimetype": "text/x-python",
   "name": "python",
   "nbconvert_exporter": "python",
   "pygments_lexer": "ipython3",
   "version": "3.8.5"
  }
 },
 "nbformat": 4,
 "nbformat_minor": 4
}
